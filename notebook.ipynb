{
 "cells": [
  {
   "cell_type": "markdown",
   "metadata": {},
   "source": [
    "# Easy huggingface Inference API"
   ]
  },
  {
   "cell_type": "markdown",
   "metadata": {},
   "source": [
    "## Run first"
   ]
  },
  {
   "cell_type": "code",
   "execution_count": null,
   "metadata": {},
   "outputs": [],
   "source": [
    "from dotenv import load_dotenv\n",
    "import os\n",
    "\n",
    "load_dotenv()"
   ]
  },
  {
   "cell_type": "code",
   "execution_count": 1,
   "metadata": {},
   "outputs": [],
   "source": [
    "from huggingface_hub import InferenceClient\n",
    "from pytz import timezone\n",
    "from datetime import datetime\n",
    "\n",
    "client = InferenceClient(\"bean980310/minami_asuka_xl_animagine\", token=os.getenv('HF_API_TOKEN'))\n",
    "\n",
    "prompt=\"masterpiece, best quality, very aesthetic, absurdres, digital art, Minami Asuka, a adult tomboy girl with very boyish handsome shortcut red hair with (spiked hair:1.2) and very handsome face and heterochromia with blue eyes and yellow eyes and perfect female body and large breasts wearing bikini\"\n",
    "negative_prompt=\"lowres, worst quality, low quality, large head, extra digits, fewer digits, normal quality, bad anatomy, bad hands, text, error, cropped, jpeg artifacts, signature, watermark, username, mutation, missing limbs, missing fingers, missing legs, missing arms, extra limbs, extra fingers, extra legs, extra arms, mutated hands, fused fingers, blurry, bad eyes, bad pupils, empty eyes, simple background, ugly, shade, painting, sketch, oldest, early\"\n",
    "\n",
    "image=client.text_to_image(prompt=prompt,negative_prompt=negative_prompt,width=768,height=1344,guidance_scale=6,num_inference_steps=28,scheduler=\"euler ancestral\")\n",
    "image.save(f\"./output/image_{datetime.now(timezone('Asia/Seoul')).strftime('%Y-%m-%d %H:%M:%S')}.png\")"
   ]
  },
  {
   "cell_type": "code",
   "execution_count": null,
   "metadata": {},
   "outputs": [],
   "source": [
    "from huggingface_hub import InferenceClient\n",
    "from pytz import timezone\n",
    "from datetime import datetime\n",
    "\n",
    "client = InferenceClient(\"bean980310/tomboy_xl_animagine\", token=os.getenv('HF_API_TOKEN'))\n",
    "\n",
    "prompt=\"masterpiece, best quality, very aesthetic, absurdres, digital art, a adult tomboy with very handsome face and perfect female body and large breasts wearing santa dress and red miniskirt and red gloves and red thighhighs and red high heels\"\n",
    "negative_prompt=\"lowres, worst quality, low quality, large head, extra digits, fewer digits, normal quality, bad anatomy, bad hands, text, error, cropped, jpeg artifacts, signature, watermark, username, mutation, missing limbs, missing fingers, missing legs, missing arms, extra limbs, extra fingers, extra legs, extra arms, mutated hands, fused fingers, blurry, bad eyes, bad pupils, empty eyes, simple background, ugly, shade, painting, sketch, oldest, early\"\n",
    "\n",
    "image=client.text_to_image(prompt=prompt,negative_prompt=negative_prompt,width=768,height=1344,guidance_scale=6,num_inference_steps=28,scheduler=\"euler ancestral\")\n",
    "image.save(f\"./output/image_{datetime.now(timezone('Asia/Seoul')).strftime('%Y-%m-%d %H:%M:%S')}.png\")"
   ]
  }
 ],
 "metadata": {
  "kernelspec": {
   "display_name": "py312",
   "language": "python",
   "name": "python3"
  },
  "language_info": {
   "codemirror_mode": {
    "name": "ipython",
    "version": 3
   },
   "file_extension": ".py",
   "mimetype": "text/x-python",
   "name": "python",
   "nbconvert_exporter": "python",
   "pygments_lexer": "ipython3",
   "version": "3.12.7"
  }
 },
 "nbformat": 4,
 "nbformat_minor": 2
}
